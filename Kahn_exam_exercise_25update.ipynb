{
  "cells": [
    {
      "cell_type": "markdown",
      "metadata": {
        "id": "B0cP5Z789_rr"
      },
      "source": [
        "\n",
        "##  Exam - Fashion MNIST Convolutional Neural Networks (CNNs)\n",
        "\n",
        "GSERM'22 course \"Deep Learning: Fundamentals and Applications\", University of St. Gallen\n",
        "\n",
        "Kayla Kahn"
      ]
    },
    {
      "cell_type": "markdown",
      "metadata": {
        "id": "Rno8GqfC9_rz"
      },
      "source": [
        "This week we have learned how to enhance vanilla Artificial Neural Networks (ANNs) using `PyTorch` to classify even more complex images. For this purpose, we used a special type of deep neural network referred to **Convolutional Neural Networks (CNNs)**. In our exam exercise, we aim to leverage that knowledge by applying it to the known Fashion-MNIST dataset."
      ]
    },
    {
      "cell_type": "markdown",
      "metadata": {
        "id": "r93JK2DH9_r0"
      },
      "source": [
        "As always, pls. don't hesitate to post your potential questions on CANVAS (StudyNet) forum (https://learning.unisg.ch), or send us an email (using the course email: aiml-teaching.ics@unisg.ch)."
      ]
    },
    {
      "cell_type": "markdown",
      "metadata": {
        "id": "eW6dySzs9_r1"
      },
      "source": [
        "## 1. Assignment Objectives:"
      ]
    },
    {
      "cell_type": "markdown",
      "metadata": {
        "id": "2uzc9Xr69_r1"
      },
      "source": [
        "As discussed in our last session, these are the tasks for the exam exercise:\n",
        "\n",
        "> 1. Load the Fashion **MNIST dataset**.\n",
        "> 2. Implement a **CNN** architecture able to work with this data.\n",
        "> 3. **Train** the model, evaluate its **performance** and visualize the results.\n",
        "> 4. Try to **improve** the performance of the initial model.\n",
        "> 5. **Document** the results in the form of PowerPoint slides."
      ]
    },
    {
      "cell_type": "markdown",
      "metadata": {
        "id": "OU1bsPMajc7o"
      },
      "source": [
        "But before we do so let's start (as always) with a motivational video by NVIDIA. Happy coding!"
      ]
    },
    {
      "cell_type": "code",
      "execution_count": null,
      "metadata": {
        "id": "XPzLlT4pjc7p"
      },
      "outputs": [],
      "source": [
        "from IPython.display import YouTubeVideo\n",
        "# Official Intro | GTC 2020 | I AM AI\"\n",
        "# YouTubeVideo('e2_hsjpTi4w', width=800, height=500)"
      ]
    },
    {
      "cell_type": "markdown",
      "metadata": {
        "id": "iPRKkkig9_r2"
      },
      "source": [
        "## 2. Setup of the Jupyter Notebook Environment"
      ]
    },
    {
      "cell_type": "markdown",
      "metadata": {
        "id": "7mZL4i6W9_r2"
      },
      "source": [
        "Similar to the previous labs, we need to import a couple of Python libraries that allow for data analysis and data visualization. We will mostly use the `PyTorch`, `Numpy`, `Sklearn`, `Matplotlib`, `Seaborn` and a few utility libraries throughout this lab:"
      ]
    },
    {
      "cell_type": "code",
      "execution_count": 1,
      "metadata": {
        "id": "A9cwWtab9_r2"
      },
      "outputs": [],
      "source": [
        "# import standard python libraries\n",
        "import os, urllib, io\n",
        "from datetime import datetime\n",
        "import numpy as np"
      ]
    },
    {
      "cell_type": "markdown",
      "metadata": {
        "id": "FrB_51t89_r3"
      },
      "source": [
        "Import Python machine / deep learning libraries:"
      ]
    },
    {
      "cell_type": "code",
      "execution_count": 2,
      "metadata": {
        "id": "ZH6LhB_q9_r3"
      },
      "outputs": [],
      "source": [
        "# import the PyTorch deep learning library\n",
        "import torch, torchvision\n",
        "import torch.nn.functional as F\n",
        "from torch import nn, optim\n",
        "from torch.autograd import Variable"
      ]
    },
    {
      "cell_type": "markdown",
      "metadata": {
        "id": "sfgYux7K9_r3"
      },
      "source": [
        "Import the sklearn classification metrics:"
      ]
    },
    {
      "cell_type": "code",
      "execution_count": 3,
      "metadata": {
        "id": "cFptYrnr9_r4"
      },
      "outputs": [],
      "source": [
        "# import sklearn classification evaluation library\n",
        "from sklearn import metrics\n",
        "from sklearn.metrics import classification_report, confusion_matrix"
      ]
    },
    {
      "cell_type": "markdown",
      "metadata": {
        "id": "WJJ5kfaf9_r4"
      },
      "source": [
        "Import Python plotting libraries:"
      ]
    },
    {
      "cell_type": "code",
      "execution_count": 4,
      "metadata": {
        "id": "usAgsocK9_r4"
      },
      "outputs": [],
      "source": [
        "# import matplotlib, seaborn, and PIL data visualization libary\n",
        "import matplotlib.pyplot as plt\n",
        "import seaborn as sns\n",
        "from PIL import Image"
      ]
    },
    {
      "cell_type": "markdown",
      "metadata": {
        "id": "kZft6q1B9_r5"
      },
      "source": [
        "Enable notebook matplotlib inline plotting:"
      ]
    },
    {
      "cell_type": "code",
      "execution_count": 5,
      "metadata": {
        "id": "BXnX3zt_9_r5"
      },
      "outputs": [],
      "source": [
        "%matplotlib inline"
      ]
    },
    {
      "cell_type": "markdown",
      "metadata": {
        "id": "dn2cf5SqJ2m9"
      },
      "source": [
        "Import Google's GDrive connector and mount your GDrive directories:"
      ]
    },
    {
      "cell_type": "code",
      "execution_count": 6,
      "metadata": {
        "colab": {
          "base_uri": "https://localhost:8080/"
        },
        "id": "m2rj2ThhJ3sA",
        "outputId": "4beb4cec-8081-471a-cd5c-735edd5754af"
      },
      "outputs": [
        {
          "output_type": "stream",
          "name": "stdout",
          "text": [
            "Mounted at /content/drive\n"
          ]
        }
      ],
      "source": [
        "# import the Google Colab GDrive connector\n",
        "from google.colab import drive\n",
        "\n",
        "# mount GDrive inside the Colab notebook\n",
        "drive.mount('/content/drive')"
      ]
    },
    {
      "cell_type": "markdown",
      "metadata": {
        "id": "-58e-iazJ8Aq"
      },
      "source": [
        "Create a structure of Colab Notebook sub-directories inside of GDrive to store (1) the data as well as (2) the trained neural network models:"
      ]
    },
    {
      "cell_type": "code",
      "execution_count": 7,
      "metadata": {
        "id": "LtB6DCWjJ-gD"
      },
      "outputs": [],
      "source": [
        "# create Colab Notebooks directory\n",
        "notebook_directory = '/content/drive/MyDrive/Colab Notebooks'\n",
        "if not os.path.exists(notebook_directory): os.makedirs(notebook_directory)\n",
        "\n",
        " # create data sub-directory inside the Colab Notebooks directory\n",
        "data_directory = '/content/drive/MyDrive/Colab Notebooks/data'\n",
        "if not os.path.exists(data_directory): os.makedirs(data_directory)\n",
        "\n",
        " # create models sub-directory inside the Colab Notebooks directory\n",
        "models_directory = '/content/drive/MyDrive/Colab Notebooks/models'\n",
        "if not os.path.exists(models_directory): os.makedirs(models_directory)"
      ]
    },
    {
      "cell_type": "markdown",
      "metadata": {
        "id": "wcYgp4Gl9_r6"
      },
      "source": [
        "Set a random `seed` value to obtain reproducable results:"
      ]
    },
    {
      "cell_type": "code",
      "execution_count": 8,
      "metadata": {
        "colab": {
          "base_uri": "https://localhost:8080/"
        },
        "id": "vdbqEjHb9_r7",
        "outputId": "566ad2ce-99cb-4a5f-8f06-0e7460089518"
      },
      "outputs": [
        {
          "output_type": "execute_result",
          "data": {
            "text/plain": [
              "<torch._C.Generator at 0x7be3fefd9e90>"
            ]
          },
          "metadata": {},
          "execution_count": 8
        }
      ],
      "source": [
        "# init deterministic seed\n",
        "seed_value = 1234\n",
        "np.random.seed(seed_value) # set numpy seed\n",
        "torch.manual_seed(seed_value) # set pytorch seed CPU"
      ]
    },
    {
      "cell_type": "markdown",
      "metadata": {
        "id": "zpKQNDr09_r7"
      },
      "source": [
        "Google Colab provides the use of free GPUs for running notebooks. However, if you just execute this notebook as is, it will use your device's CPU. To run the lab on a GPU, got to `Runtime` > `Change runtime type` and set the Runtime type to `GPU` in the drop-down. Running this lab on a CPU is fine, but you will find that GPU computing is faster. *CUDA* indicates that the lab is being run on GPU.\n",
        "\n",
        "Enable GPU computing by setting the `device` flag and init a `CUDA` seed:"
      ]
    },
    {
      "cell_type": "code",
      "execution_count": 9,
      "metadata": {
        "colab": {
          "base_uri": "https://localhost:8080/"
        },
        "id": "IAFg7INc9_r7",
        "outputId": "a8f15757-c194-48bd-be36-5a7b0125e186"
      },
      "outputs": [
        {
          "output_type": "stream",
          "name": "stdout",
          "text": [
            "[LOG] notebook with cuda computation enabled\n"
          ]
        }
      ],
      "source": [
        "# set cpu or gpu enabled device\n",
        "device = torch.device('cuda' if torch.cuda.is_available() else 'cpu').type\n",
        "\n",
        "# init deterministic GPU seed\n",
        "torch.cuda.manual_seed(seed_value)\n",
        "\n",
        "# log type of device enabled\n",
        "print('[LOG] notebook with {} computation enabled'.format(str(device)))"
      ]
    },
    {
      "cell_type": "markdown",
      "metadata": {
        "id": "Y-7Ve4-_9_r7"
      },
      "source": [
        "Let's determine if we have access to a GPU provided by e.g. Google's COLab environment:"
      ]
    },
    {
      "cell_type": "code",
      "execution_count": 10,
      "metadata": {
        "colab": {
          "base_uri": "https://localhost:8080/"
        },
        "id": "VCpTB9x59_r8",
        "outputId": "87216cdc-9396-448b-9603-8b583be423f9"
      },
      "outputs": [
        {
          "output_type": "stream",
          "name": "stdout",
          "text": [
            "Mon Apr 28 20:36:46 2025       \n",
            "+-----------------------------------------------------------------------------------------+\n",
            "| NVIDIA-SMI 550.54.15              Driver Version: 550.54.15      CUDA Version: 12.4     |\n",
            "|-----------------------------------------+------------------------+----------------------+\n",
            "| GPU  Name                 Persistence-M | Bus-Id          Disp.A | Volatile Uncorr. ECC |\n",
            "| Fan  Temp   Perf          Pwr:Usage/Cap |           Memory-Usage | GPU-Util  Compute M. |\n",
            "|                                         |                        |               MIG M. |\n",
            "|=========================================+========================+======================|\n",
            "|   0  Tesla T4                       Off |   00000000:00:04.0 Off |                    0 |\n",
            "| N/A   46C    P8             11W /   70W |       2MiB /  15360MiB |      0%      Default |\n",
            "|                                         |                        |                  N/A |\n",
            "+-----------------------------------------+------------------------+----------------------+\n",
            "                                                                                         \n",
            "+-----------------------------------------------------------------------------------------+\n",
            "| Processes:                                                                              |\n",
            "|  GPU   GI   CI        PID   Type   Process name                              GPU Memory |\n",
            "|        ID   ID                                                               Usage      |\n",
            "|=========================================================================================|\n",
            "|  No running processes found                                                             |\n",
            "+-----------------------------------------------------------------------------------------+\n"
          ]
        }
      ],
      "source": [
        "!nvidia-smi"
      ]
    },
    {
      "cell_type": "markdown",
      "metadata": {
        "id": "3mZNLbFQifHF"
      },
      "source": [
        "## 3. Exam Exercise: Convolutional Neural Networks (CNNs)"
      ]
    },
    {
      "cell_type": "markdown",
      "metadata": {
        "id": "dUd6ScWXmkel"
      },
      "source": [
        "The **Fashion-MNIST database** is a large database of Zalando articles that is commonly used for training various image processing systems. The database is widely used for training and testing in the field of machine learning. Source: https://www.kaggle.com/c/insar-fashion-mnist-challenge\n",
        "\n",
        "The Fashion-MNIST database has 70,000 total images and is pre-divided into 60,000 training images and 10,000 test images."
      ]
    },
    {
      "cell_type": "markdown",
      "metadata": {
        "id": "XH1CSkRV9_r8"
      },
      "source": [
        "### 3.1 Fashion-MNIST Dataset Download and Data Assessment"
      ]
    },
    {
      "cell_type": "markdown",
      "metadata": {
        "id": "LCCLgvKhmQ4q"
      },
      "source": [
        "Set a directory to store the training data when it is downloaded."
      ]
    },
    {
      "cell_type": "code",
      "execution_count": 11,
      "metadata": {
        "id": "ayTZlAdwm5au"
      },
      "outputs": [],
      "source": [
        "# define train path\n",
        "# 'data_directory' is defined in a chunk above\n",
        "train_path = data_directory + '/train_fmnist'"
      ]
    },
    {
      "cell_type": "markdown",
      "metadata": {
        "id": "X9PfNoxknjVB"
      },
      "source": [
        "Next we download the training data. We first define a transformation to download the images as tensor format, or 28x28 matrices of pixels of grayscale values. This is what the computer understands rather than what the human eye sees/understands."
      ]
    },
    {
      "cell_type": "code",
      "execution_count": 12,
      "metadata": {
        "id": "_2r9v9W8n4sd"
      },
      "outputs": [],
      "source": [
        "# define transformation into tensor format\n",
        "transf = torchvision.transforms.Compose([torchvision.transforms.ToTensor()])\n",
        "\n",
        "# download and transform the training images\n",
        "# use the train path we defined above, train = TRUE says to use train not evaluation set,\n",
        "# use the transformation we just defined\n",
        "fashion_mnist_train_data = torchvision.datasets.FashionMNIST(root=train_path, train=True, transform=transf, download=True)"
      ]
    },
    {
      "cell_type": "markdown",
      "metadata": {
        "id": "Qny15do3oosn"
      },
      "source": [
        "To make sure it downloaded correctly, we can assess the length of the data we just downloaded. It should be 60,000."
      ]
    },
    {
      "cell_type": "code",
      "execution_count": 13,
      "metadata": {
        "colab": {
          "base_uri": "https://localhost:8080/"
        },
        "id": "1CORV4tNooDs",
        "outputId": "0322499b-a627-4b16-d011-6a94eb961ba5"
      },
      "outputs": [
        {
          "output_type": "execute_result",
          "data": {
            "text/plain": [
              "60000"
            ]
          },
          "metadata": {},
          "execution_count": 13
        }
      ],
      "source": [
        "len(fashion_mnist_train_data)"
      ]
    },
    {
      "cell_type": "markdown",
      "metadata": {
        "id": "nuJ4togSqBbd"
      },
      "source": [
        "We can also look at some of the images. The transformation we used said to download as a tensor, so that is what we should get."
      ]
    },
    {
      "cell_type": "code",
      "execution_count": 14,
      "metadata": {
        "colab": {
          "base_uri": "https://localhost:8080/"
        },
        "id": "s324R_q7qUMh",
        "outputId": "b9e467a7-2f9e-46ca-babd-2f9026a56d88"
      },
      "outputs": [
        {
          "output_type": "execute_result",
          "data": {
            "text/plain": [
              "(tensor([[[0.0000, 0.0000, 0.0000, 0.0000, 0.0000, 0.0000, 0.0000, 0.0000,\n",
              "           0.0000, 0.0000, 0.0000, 0.0000, 0.0000, 0.0000, 0.0000, 0.0000,\n",
              "           0.0000, 0.0000, 0.0000, 0.0000, 0.0000, 0.0000, 0.0000, 0.0000,\n",
              "           0.0000, 0.0000, 0.0000, 0.0000],\n",
              "          [0.0000, 0.0000, 0.0000, 0.0000, 0.0000, 0.0000, 0.0000, 0.0000,\n",
              "           0.0000, 0.0000, 0.0000, 0.0000, 0.0000, 0.0000, 0.0000, 0.0000,\n",
              "           0.0000, 0.0000, 0.0000, 0.0000, 0.0000, 0.0000, 0.0000, 0.0000,\n",
              "           0.0000, 0.0000, 0.0000, 0.0000],\n",
              "          [0.0000, 0.0000, 0.0000, 0.0000, 0.0000, 0.0000, 0.0000, 0.0000,\n",
              "           0.0000, 0.0000, 0.0000, 0.0000, 0.0000, 0.0000, 0.0000, 0.0000,\n",
              "           0.0000, 0.0000, 0.0000, 0.0000, 0.0000, 0.0000, 0.0000, 0.0000,\n",
              "           0.0000, 0.0000, 0.0000, 0.0000],\n",
              "          [0.0000, 0.0000, 0.0000, 0.0000, 0.0000, 0.0000, 0.0000, 0.0000,\n",
              "           0.0000, 0.0000, 0.0000, 0.0000, 0.0000, 0.0000, 0.0000, 0.0000,\n",
              "           0.0000, 0.0000, 0.0000, 0.0000, 0.0000, 0.0000, 0.0000, 0.0000,\n",
              "           0.0000, 0.0000, 0.0000, 0.0000],\n",
              "          [0.0000, 0.0000, 0.0000, 0.0000, 0.0000, 0.0000, 0.0000, 0.0000,\n",
              "           0.0000, 0.0000, 0.0000, 0.0000, 0.0000, 0.0000, 0.0000, 0.0000,\n",
              "           0.0000, 0.0000, 0.0000, 0.0000, 0.0000, 0.0000, 0.0000, 0.0000,\n",
              "           0.0000, 0.0000, 0.0000, 0.0000],\n",
              "          [0.0000, 0.0000, 0.0000, 0.0000, 0.0000, 0.0000, 0.0000, 0.0000,\n",
              "           0.0000, 0.0000, 0.0000, 0.0000, 0.0000, 0.0000, 0.0000, 0.0000,\n",
              "           0.0000, 0.0000, 0.0000, 0.0000, 0.0000, 0.0000, 0.0000, 0.0000,\n",
              "           0.0000, 0.0000, 0.0000, 0.0000],\n",
              "          [0.0000, 0.0000, 0.0000, 0.0000, 0.0000, 0.0000, 0.0000, 0.0000,\n",
              "           0.0000, 0.0000, 0.0000, 0.0000, 0.0000, 0.0000, 0.0000, 0.0000,\n",
              "           0.0000, 0.0000, 0.0000, 0.0000, 0.0000, 0.0000, 0.0000, 0.0000,\n",
              "           0.0000, 0.0000, 0.0000, 0.0000],\n",
              "          [0.0000, 0.0000, 0.0000, 0.0000, 0.0000, 0.0000, 0.0000, 0.0000,\n",
              "           0.0000, 0.0078, 0.0039, 0.0039, 0.0039, 0.0000, 0.0196, 0.0118,\n",
              "           0.0000, 0.0000, 0.0000, 0.0000, 0.0000, 0.0078, 0.0000, 0.0000,\n",
              "           0.3647, 0.3725, 0.0000, 0.0000],\n",
              "          [0.0000, 0.0000, 0.0000, 0.0000, 0.0000, 0.0000, 0.0000, 0.0000,\n",
              "           0.0000, 0.0078, 0.0000, 0.0078, 0.0000, 0.0078, 0.0000, 0.0000,\n",
              "           0.2510, 0.5176, 0.0000, 0.0000, 0.0000, 0.0000, 0.0000, 0.0588,\n",
              "           0.2000, 0.1804, 0.2431, 0.0000],\n",
              "          [0.0000, 0.0000, 0.0000, 0.0000, 0.0000, 0.0000, 0.0000, 0.0000,\n",
              "           0.0078, 0.0000, 0.0000, 0.0118, 0.0039, 0.0000, 0.0588, 0.5176,\n",
              "           0.0941, 0.7373, 0.5765, 0.0000, 0.0000, 0.0000, 0.0000, 0.0745,\n",
              "           0.3647, 0.1333, 0.1059, 0.0000],\n",
              "          [0.0000, 0.0000, 0.0000, 0.0000, 0.0000, 0.0000, 0.0000, 0.0000,\n",
              "           0.0000, 0.0039, 0.0000, 0.0000, 0.0000, 0.0000, 0.3882, 0.2706,\n",
              "           0.0039, 0.0000, 0.8627, 0.5725, 0.0000, 0.0039, 0.0000, 0.1961,\n",
              "           0.2157, 0.3490, 0.0235, 0.0000],\n",
              "          [0.0000, 0.0000, 0.0000, 0.0000, 0.0000, 0.0000, 0.0000, 0.0000,\n",
              "           0.0000, 0.0000, 0.0000, 0.0000, 0.5176, 0.4314, 0.0000, 0.0039,\n",
              "           0.1098, 0.0627, 0.1490, 0.5255, 0.0000, 0.0000, 0.0902, 0.3137,\n",
              "           0.1451, 0.3059, 0.0353, 0.0000],\n",
              "          [0.0000, 0.0000, 0.0078, 0.0000, 0.0039, 0.0118, 0.0000, 0.0000,\n",
              "           0.0000, 0.0000, 0.2314, 0.4863, 0.5098, 0.6941, 0.0431, 0.0588,\n",
              "           0.1255, 0.1647, 0.1725, 0.1490, 0.2078, 0.1961, 0.2353, 0.2000,\n",
              "           0.2078, 0.2471, 0.0196, 0.0000],\n",
              "          [0.0000, 0.0039, 0.0000, 0.0000, 0.0000, 0.0000, 0.0000, 0.0745,\n",
              "           0.3020, 0.4784, 0.4745, 0.4431, 0.3686, 0.6078, 0.4902, 0.0000,\n",
              "           0.1843, 0.2118, 0.2000, 0.2157, 0.2196, 0.2431, 0.2275, 0.2000,\n",
              "           0.2078, 0.1333, 0.0039, 0.0000],\n",
              "          [0.0000, 0.0000, 0.0000, 0.0000, 0.0784, 0.1451, 0.3333, 0.4863,\n",
              "           0.4549, 0.3922, 0.4078, 0.4863, 0.4941, 0.5412, 0.4667, 0.0078,\n",
              "           0.1922, 0.1569, 0.1569, 0.1333, 0.0745, 0.0078, 0.0039, 0.0000,\n",
              "           0.0275, 0.1490, 0.3843, 0.0000],\n",
              "          [0.0000, 0.0784, 0.1922, 0.2941, 0.5725, 0.4667, 0.3804, 0.4000,\n",
              "           0.4039, 0.4392, 0.5059, 0.5255, 0.5098, 0.5373, 0.6902, 0.1961,\n",
              "           0.0000, 0.0588, 0.0745, 0.1451, 0.2353, 0.3725, 0.5647, 0.7098,\n",
              "           0.7373, 0.8039, 0.9098, 0.2157],\n",
              "          [0.4706, 0.4667, 0.3804, 0.3843, 0.4431, 0.4039, 0.3333, 0.4392,\n",
              "           0.4745, 0.5255, 0.5451, 0.5451, 0.6039, 0.6235, 0.7137, 0.7647,\n",
              "           0.6078, 0.7882, 0.7765, 0.8235, 0.8627, 0.9059, 0.9098, 0.9255,\n",
              "           0.9255, 0.8980, 0.9255, 0.3686],\n",
              "          [0.6039, 0.6980, 0.6824, 0.6588, 0.6824, 0.6745, 0.7373, 0.7451,\n",
              "           0.7765, 0.8039, 0.8314, 0.8667, 0.9098, 0.9098, 0.9216, 0.9412,\n",
              "           0.9765, 0.9490, 0.9255, 0.8863, 0.8745, 0.8235, 0.7843, 0.8157,\n",
              "           0.6784, 0.4510, 0.3176, 0.0353],\n",
              "          [0.1098, 0.5373, 0.8235, 0.7373, 0.8510, 0.8667, 0.8510, 0.8863,\n",
              "           0.9098, 0.8627, 0.8549, 0.7529, 0.6824, 0.6235, 0.5412, 0.4549,\n",
              "           0.3843, 0.3176, 0.1608, 0.4510, 1.0000, 0.1059, 0.0000, 0.0000,\n",
              "           0.0000, 0.0000, 0.0000, 0.0588],\n",
              "          [0.0000, 0.0000, 0.0000, 0.1294, 0.2314, 0.5451, 0.9608, 0.4863,\n",
              "           0.3333, 0.1569, 0.0000, 0.0000, 0.0000, 0.0000, 0.0000, 0.0000,\n",
              "           0.0000, 0.0000, 0.0000, 0.0000, 0.0784, 0.0000, 0.0039, 0.0431,\n",
              "           0.0980, 0.1255, 0.1216, 0.1294],\n",
              "          [0.0000, 0.0196, 0.0000, 0.0000, 0.0000, 0.0000, 0.0549, 0.0000,\n",
              "           0.0000, 0.0000, 0.0706, 0.1294, 0.1255, 0.1216, 0.1451, 0.1333,\n",
              "           0.1137, 0.1098, 0.1059, 0.1216, 0.0549, 0.0902, 0.0941, 0.0706,\n",
              "           0.0471, 0.0431, 0.0392, 0.0353],\n",
              "          [0.0000, 0.0000, 0.0000, 0.0000, 0.0000, 0.0000, 0.0000, 0.0000,\n",
              "           0.0000, 0.0000, 0.0000, 0.0000, 0.0000, 0.0000, 0.0000, 0.0000,\n",
              "           0.0000, 0.0000, 0.0000, 0.0000, 0.0000, 0.0000, 0.0000, 0.0000,\n",
              "           0.0000, 0.0000, 0.0000, 0.0000],\n",
              "          [0.0000, 0.0000, 0.0000, 0.0000, 0.0000, 0.0000, 0.0000, 0.0000,\n",
              "           0.0000, 0.0000, 0.0000, 0.0000, 0.0000, 0.0000, 0.0000, 0.0000,\n",
              "           0.0000, 0.0000, 0.0000, 0.0000, 0.0000, 0.0000, 0.0000, 0.0000,\n",
              "           0.0000, 0.0000, 0.0000, 0.0000],\n",
              "          [0.0000, 0.0000, 0.0000, 0.0000, 0.0000, 0.0000, 0.0000, 0.0000,\n",
              "           0.0000, 0.0000, 0.0000, 0.0000, 0.0000, 0.0000, 0.0000, 0.0000,\n",
              "           0.0000, 0.0000, 0.0000, 0.0000, 0.0000, 0.0000, 0.0000, 0.0000,\n",
              "           0.0000, 0.0000, 0.0000, 0.0000],\n",
              "          [0.0000, 0.0000, 0.0000, 0.0000, 0.0000, 0.0000, 0.0000, 0.0000,\n",
              "           0.0000, 0.0000, 0.0000, 0.0000, 0.0000, 0.0000, 0.0000, 0.0000,\n",
              "           0.0000, 0.0000, 0.0000, 0.0000, 0.0000, 0.0000, 0.0000, 0.0000,\n",
              "           0.0000, 0.0000, 0.0000, 0.0000],\n",
              "          [0.0000, 0.0000, 0.0000, 0.0000, 0.0000, 0.0000, 0.0000, 0.0000,\n",
              "           0.0000, 0.0000, 0.0000, 0.0000, 0.0000, 0.0000, 0.0000, 0.0000,\n",
              "           0.0000, 0.0000, 0.0000, 0.0000, 0.0000, 0.0000, 0.0000, 0.0000,\n",
              "           0.0000, 0.0000, 0.0000, 0.0000],\n",
              "          [0.0000, 0.0000, 0.0000, 0.0000, 0.0000, 0.0000, 0.0000, 0.0000,\n",
              "           0.0000, 0.0000, 0.0000, 0.0000, 0.0000, 0.0000, 0.0000, 0.0000,\n",
              "           0.0000, 0.0000, 0.0000, 0.0000, 0.0000, 0.0000, 0.0000, 0.0000,\n",
              "           0.0000, 0.0000, 0.0000, 0.0000],\n",
              "          [0.0000, 0.0000, 0.0000, 0.0000, 0.0000, 0.0000, 0.0000, 0.0000,\n",
              "           0.0000, 0.0000, 0.0000, 0.0000, 0.0000, 0.0000, 0.0000, 0.0000,\n",
              "           0.0000, 0.0000, 0.0000, 0.0000, 0.0000, 0.0000, 0.0000, 0.0000,\n",
              "           0.0000, 0.0000, 0.0000, 0.0000]]]),\n",
              " 7)"
            ]
          },
          "metadata": {},
          "execution_count": 14
        }
      ],
      "source": [
        "# select an image id\n",
        "image_id = 29000\n",
        "\n",
        "# retrieve the image that has this id\n",
        "fashion_mnist_train_data[image_id]"
      ]
    },
    {
      "cell_type": "markdown",
      "metadata": {
        "id": "pLUOFSExq8Kp"
      },
      "source": [
        "We see with the image information above that it presents as a tensor. The very last number (7 for this chosen id) is the image label. We can also separate the image from the label. The labels are numbers but we can map this to the fashion item (shown on Zalando github page) so that the labels have meaning for us."
      ]
    },
    {
      "cell_type": "code",
      "execution_count": 15,
      "metadata": {
        "colab": {
          "base_uri": "https://localhost:8080/",
          "height": 52
        },
        "id": "MA6Lw2qkrNCb",
        "outputId": "4f492dfd-a94c-4002-f24e-ec0ce4fa50fc"
      },
      "outputs": [
        {
          "output_type": "stream",
          "name": "stdout",
          "text": [
            "7\n"
          ]
        },
        {
          "output_type": "execute_result",
          "data": {
            "text/plain": [
              "'Sneaker'"
            ],
            "application/vnd.google.colaboratory.intrinsic+json": {
              "type": "string"
            }
          },
          "metadata": {},
          "execution_count": 15
        }
      ],
      "source": [
        "# separate image from label\n",
        "fashion_mnist_train_image, fashion_mnist_train_label = fashion_mnist_train_data[image_id]\n",
        "\n",
        "# see the label for the image we looked at\n",
        "print(fashion_mnist_train_label)\n",
        "\n",
        "# map number labels to fashion items\n",
        "fashion_classes = {0: 'T-shirt/top',\n",
        "                    1: 'Trouser',\n",
        "                    2: 'Pullover',\n",
        "                    3: 'Dress',\n",
        "                    4: 'Coat',\n",
        "                    5: 'Sandal',\n",
        "                    6: 'Shirt',\n",
        "                    7: 'Sneaker',\n",
        "                    8: 'Bag',\n",
        "                    9: 'Ankle boot'}\n",
        "\n",
        "# see the fashion item that the label represents\n",
        "fashion_classes[fashion_mnist_train_label]"
      ]
    },
    {
      "cell_type": "markdown",
      "metadata": {
        "id": "Y97apD4qx5Tf"
      },
      "source": [
        "So we see that our chosen image id is label 7 which is sneaker.\n",
        "\n",
        "We can also turn the image from a tensor to an image that the human eye can make sense of so that we can look at whether this is really a sneaker."
      ]
    },
    {
      "cell_type": "code",
      "execution_count": 16,
      "metadata": {
        "colab": {
          "base_uri": "https://localhost:8080/",
          "height": 469
        },
        "id": "vSDBhXO5z04_",
        "outputId": "8b60b1a1-a414-4202-b22e-0125669b19e2"
      },
      "outputs": [
        {
          "output_type": "execute_result",
          "data": {
            "text/plain": [
              "<matplotlib.image.AxesImage at 0x7be414124d50>"
            ]
          },
          "metadata": {},
          "execution_count": 16
        },
        {
          "output_type": "display_data",
          "data": {
            "text/plain": [
              "<Figure size 640x480 with 1 Axes>"
            ],
            "image/png": "[encoded data removed]"
          },
          "metadata": {}
        }
      ],
      "source": [
        "# tensor to image transformation\n",
        "trans = torchvision.transforms.ToPILImage()\n",
        "\n",
        "# set image plot title\n",
        "plt.title('Example: {}, Label: {}'.format(str(image_id), fashion_classes[fashion_mnist_train_label]))\n",
        "\n",
        "# plot the fashion image\n",
        "plt.imshow(trans(fashion_mnist_train_image), cmap='gray')"
      ]
    },
    {
      "cell_type": "markdown",
      "metadata": {
        "id": "GC_ya3dq3iYY"
      },
      "source": [
        "We also need the evaluation data. We define the directory and additionally define a transformation to tensors just as we did for the training data."
      ]
    },
    {
      "cell_type": "code",
      "execution_count": 17,
      "metadata": {
        "id": "JuMbMSJ13loS"
      },
      "outputs": [],
      "source": [
        "# define the directory in which to store the evaluation data\n",
        "eval_path = data_directory + '/eval_fmnist'\n",
        "\n",
        "# define pytorch transformation into tensor format\n",
        "transf = torchvision.transforms.Compose([torchvision.transforms.ToTensor()])\n",
        "\n",
        "# download and transform training images\n",
        "# train set to False this time in order to get the evaluation set instead of the train set\n",
        "fashion_mnist_eval_data = torchvision.datasets.FashionMNIST(root=eval_path, train=False, transform=transf, download=True)"
      ]
    },
    {
      "cell_type": "markdown",
      "metadata": {
        "id": "bZih7Hte4kAk"
      },
      "source": [
        "Check the length of the evaluation data as a verification. It should be 10,000."
      ]
    },
    {
      "cell_type": "code",
      "execution_count": 18,
      "metadata": {
        "colab": {
          "base_uri": "https://localhost:8080/"
        },
        "id": "lMn8Y0Yv4iAh",
        "outputId": "27feccf8-eb5d-448f-bc70-8393fbc6b7f3"
      },
      "outputs": [
        {
          "output_type": "execute_result",
          "data": {
            "text/plain": [
              "10000"
            ]
          },
          "metadata": {},
          "execution_count": 18
        }
      ],
      "source": [
        "len(fashion_mnist_eval_data)"
      ]
    },
    {
      "cell_type": "markdown",
      "metadata": {
        "id": "B9Xivz3j9_sD"
      },
      "source": [
        "### 3.2 Convolutional Neural Network (CNN) Model Training and Evaluation"
      ]
    },
    {
      "cell_type": "markdown",
      "metadata": {
        "id": "nswYOXvk9_r0"
      },
      "source": [
        "<img align=\"center\" style=\"max-width: 900px\" src=\"https://github.com/HSG-AIML/LabAI-Coding/blob/main/resources/lab_05/classification.png?raw=1\">"
      ]
    },
    {
      "cell_type": "markdown",
      "metadata": {
        "id": "Tgqmaa129_sZ"
      },
      "source": [
        "Please note this image of a CNN was defined for the CIFAR-10 dataset. Your Fashion-MNIST images have a different size.\n"
      ]
    },
    {
      "cell_type": "markdown",
      "metadata": {
        "id": "Tn2Wu-JaoXyJ"
      },
      "source": [
        "####**1. Implement and train your \"baseline\" CNN.**"
      ]
    },
    {
      "cell_type": "markdown",
      "metadata": {
        "id": "30lRuG-k78y3"
      },
      "source": [
        "First we define the architecture of the baseline CNN."
      ]
    },
    {
      "cell_type": "code",
      "execution_count": 19,
      "metadata": {
        "id": "LIXxqBfdLZ9A"
      },
      "outputs": [],
      "source": [
        "# implement the network architecture\n",
        "# (nn.Module gets the functionalities from the pytorch module)\n",
        "class FashionMnistCNN(nn.Module):\n",
        "\n",
        "    # define the class constructor\n",
        "    def __init__(self):\n",
        "\n",
        "        # call super class constructor\n",
        "        super(FashionMnistCNN, self).__init__()\n",
        "\n",
        "        # specify convolution layer 1. (1 input channel w/ grayscale. output = features to extract)\n",
        "        self.conv1 = nn.Conv2d(in_channels=1, out_channels=32, kernel_size=5, stride=1, padding=0)\n",
        "        # define max-pooling layer 1\n",
        "        self.pool1 = nn.MaxPool2d(kernel_size=2, stride=2)\n",
        "        # specify convolution layer 2. (input channels = output from before)\n",
        "        self.conv2 = nn.Conv2d(in_channels=32, out_channels=64, kernel_size=5, stride=1, padding=0)\n",
        "        # define max-pooling layer 2\n",
        "        self.pool2 = nn.MaxPool2d(kernel_size=2, stride=2)\n",
        "\n",
        "        # classification part\n",
        "        # specify first fully connected layer\n",
        "        self.linear1 = nn.Linear(64*4*4, 600, bias=True) # linearity\n",
        "        self.relu1 = nn.ReLU(inplace=True) # non-linearity\n",
        "        # fully connected layer 2\n",
        "        self.linear2 = nn.Linear(600, 120, bias=True)\n",
        "        self.relu2 = nn.ReLU(inplace=True)\n",
        "        # fully connected layer 3 (output is 10 for 10 fashion mnist classes)\n",
        "        self.linear3 = nn.Linear(120, 10)\n",
        "        # feed output of 3rd fc through softmax\n",
        "        self.logsoftmax = nn.LogSoftmax(dim=1)\n",
        "\n",
        "    # where it is glued together\n",
        "    # define the forward pass\n",
        "    def forward(self, images):\n",
        "\n",
        "        # high level feature learning via convolutional layers\n",
        "        # define conv layer 1 forward pass, max pooling, relu sneaks in a nonlinearity to help with learning\n",
        "        x = self.pool1(self.relu1(self.conv1(images)))\n",
        "        # define conv layer 2 forward pass\n",
        "        x = self.pool2(self.relu2(self.conv2(x)))\n",
        "\n",
        "        # feature flattening\n",
        "        # reshape image pixels\n",
        "        x = x.view(x.size(0), -1)\n",
        "\n",
        "        # combination of feature learning via non-linear layers\n",
        "        # define fully connected layer 1 forward pass\n",
        "        x = self.relu1(self.linear1(x))\n",
        "        # define fc layer 2 forward pass\n",
        "        x = self.relu2(self.linear2(x))\n",
        "        # define layer 3 forward pass\n",
        "        x = self.logsoftmax(self.linear3(x))\n",
        "\n",
        "        # return forward pass result\n",
        "        return x\n"
      ]
    },
    {
      "cell_type": "markdown",
      "metadata": {
        "id": "DVB2K01Lh7X-"
      },
      "source": [
        "Initialize model to be trained and push it to the device that we enabled."
      ]
    },
    {
      "cell_type": "code",
      "execution_count": 20,
      "metadata": {
        "colab": {
          "base_uri": "https://localhost:8080/"
        },
        "id": "1ktDX1XgiH5O",
        "outputId": "8467a94e-c3aa-47b5-c233-33e1b67fa953"
      },
      "outputs": [
        {
          "output_type": "stream",
          "name": "stdout",
          "text": [
            "Mon Apr 28 20:37:34 2025       \n",
            "+-----------------------------------------------------------------------------------------+\n",
            "| NVIDIA-SMI 550.54.15              Driver Version: 550.54.15      CUDA Version: 12.4     |\n",
            "|-----------------------------------------+------------------------+----------------------+\n",
            "| GPU  Name                 Persistence-M | Bus-Id          Disp.A | Volatile Uncorr. ECC |\n",
            "| Fan  Temp   Perf          Pwr:Usage/Cap |           Memory-Usage | GPU-Util  Compute M. |\n",
            "|                                         |                        |               MIG M. |\n",
            "|=========================================+========================+======================|\n",
            "|   0  Tesla T4                       Off |   00000000:00:04.0 Off |                    0 |\n",
            "| N/A   47C    P0             28W /   70W |     124MiB /  15360MiB |      1%      Default |\n",
            "|                                         |                        |                  N/A |\n",
            "+-----------------------------------------+------------------------+----------------------+\n",
            "                                                                                         \n",
            "+-----------------------------------------------------------------------------------------+\n",
            "| Processes:                                                                              |\n",
            "|  GPU   GI   CI        PID   Type   Process name                              GPU Memory |\n",
            "|        ID   ID                                                               Usage      |\n",
            "|=========================================================================================|\n",
            "+-----------------------------------------------------------------------------------------+\n"
          ]
        }
      ],
      "source": [
        "# instantiate model\n",
        "model = FashionMnistCNN()\n",
        "# push to device\n",
        "model = model.to(device)\n",
        "# if GPU is enabled we can double check that the model was pushed there\n",
        "!nvidia-smi"
      ]
    },
    {
      "cell_type": "markdown",
      "metadata": {
        "id": "HZB_88Wzijtn"
      },
      "source": [
        "Now that the model is initialized we can take a look at the network architecture to review the model structure. We can also look at the number of parameters that we will be training."
      ]
    },
    {
      "cell_type": "code",
      "execution_count": 21,
      "metadata": {
        "colab": {
          "base_uri": "https://localhost:8080/"
        },
        "id": "RcyQhkz1i7dG",
        "outputId": "36adb09f-ed9e-43b6-9035-4f8aa7f4a0a5"
      },
      "outputs": [
        {
          "output_type": "stream",
          "name": "stdout",
          "text": [
            "[LOG] FashionMnistCNN architecture:\n",
            "\n",
            "FashionMnistCNN(\n",
            "  (conv1): Conv2d(1, 32, kernel_size=(5, 5), stride=(1, 1))\n",
            "  (pool1): MaxPool2d(kernel_size=2, stride=2, padding=0, dilation=1, ceil_mode=False)\n",
            "  (conv2): Conv2d(32, 64, kernel_size=(5, 5), stride=(1, 1))\n",
            "  (pool2): MaxPool2d(kernel_size=2, stride=2, padding=0, dilation=1, ceil_mode=False)\n",
            "  (linear1): Linear(in_features=1024, out_features=600, bias=True)\n",
            "  (relu1): ReLU(inplace=True)\n",
            "  (linear2): Linear(in_features=600, out_features=120, bias=True)\n",
            "  (relu2): ReLU(inplace=True)\n",
            "  (linear3): Linear(in_features=120, out_features=10, bias=True)\n",
            "  (logsoftmax): LogSoftmax(dim=1)\n",
            ")\n",
            "\n",
            "[LOG] Number of FashionMnistCNN model parameters to be trained: 740426.\n"
          ]
        }
      ],
      "source": [
        "# look at the architecture\n",
        "print('[LOG] FashionMnistCNN architecture:\\n\\n{}\\n'.format(model))\n",
        "\n",
        "# look at the parameters\n",
        "# first initialize the number of paramters\n",
        "num_params = 0\n",
        "# iterate over the distinct parameters\n",
        "for param in model.parameters():\n",
        "    # collect number of parameters\n",
        "    num_params += param.numel()\n",
        "#print number of parameters\n",
        "print('[LOG] Number of FashionMnistCNN model parameters to be trained: {}.'.format(num_params))"
      ]
    },
    {
      "cell_type": "markdown",
      "metadata": {
        "id": "hbCqdH5pq_3K"
      },
      "source": [
        "We use negative log-likelihood loss which penalizes models that have a high error between the predicted class and true class. The loss function should be pushed to the same computing device that the model is on. We also need to define the learning rate and optimization strategy."
      ]
    },
    {
      "cell_type": "code",
      "execution_count": 22,
      "metadata": {
        "id": "Wu4M3e6arStr"
      },
      "outputs": [],
      "source": [
        "# define loss function\n",
        "nll_loss = nn.NLLLoss()\n",
        "#push initialized loss function to device\n",
        "nll_loss = nll_loss.to(device)\n",
        "\n",
        "# define learning rate\n",
        "learning_rate = .001\n",
        "# define optimization strategy (stochastic gradient descent)\n",
        "optimizer = optim.SGD(params=model.parameters(), lr=learning_rate)"
      ]
    },
    {
      "cell_type": "markdown",
      "metadata": {
        "id": "_SUKQib-wTRV"
      },
      "source": [
        "For training the model, we will use a mini-batch size of 128 images per batch and will train for 20 epochs. 20 epochs says that we will show the 60,000 training images to the network 20 times as part of the training process. The mini-batch size says that the dataset being fed to the network 20 times will be done in chunks of 128 images.\n",
        "\n",
        "We also initialize a dataloader to feed the image tensors to the neural network."
      ]
    },
    {
      "cell_type": "code",
      "execution_count": 23,
      "metadata": {
        "id": "t0gbfZsg34fV"
      },
      "outputs": [],
      "source": [
        "num_epochs = 20\n",
        "mini_batch_size = 128\n",
        "\n",
        "# dataloader\n",
        "fashion_mnist_train_dataloader = torch.utils.data.DataLoader(fashion_mnist_train_data, batch_size=mini_batch_size, shuffle=True)"
      ]
    },
    {
      "cell_type": "markdown",
      "metadata": {
        "id": "dd3b3eMDHwFG"
      },
      "source": [
        "Model training"
      ]
    },
    {
      "cell_type": "code",
      "execution_count": 24,
      "metadata": {
        "colab": {
          "base_uri": "https://localhost:8080/"
        },
        "id": "JPTxwlMbHxG_",
        "outputId": "1a6e5b33-6632-4357-8a7f-9c98c4050169"
      },
      "outputs": [
        {
          "output_type": "stream",
          "name": "stdout",
          "text": [
            "[LOG 20250428-20:37:54] epoch: 0 train-loss: 2.301276657881259\n",
            "[LOG 20250428-20:38:03] epoch: 1 train-loss: 2.2973659587567297\n",
            "[LOG 20250428-20:38:12] epoch: 2 train-loss: 2.293265273576098\n",
            "[LOG 20250428-20:38:24] epoch: 3 train-loss: 2.288257462637765\n",
            "[LOG 20250428-20:38:33] epoch: 4 train-loss: 2.2817682752222903\n",
            "[LOG 20250428-20:38:42] epoch: 5 train-loss: 2.2725005114256445\n",
            "[LOG 20250428-20:38:50] epoch: 6 train-loss: 2.2578722174996253\n",
            "[LOG 20250428-20:38:59] epoch: 7 train-loss: 2.2325590114349496\n",
            "[LOG 20250428-20:39:09] epoch: 8 train-loss: 2.1837173296190273\n",
            "[LOG 20250428-20:39:17] epoch: 9 train-loss: 2.074652994365326\n",
            "[LOG 20250428-20:39:25] epoch: 10 train-loss: 1.8234596005889143\n",
            "[LOG 20250428-20:39:35] epoch: 11 train-loss: 1.4717955683340143\n",
            "[LOG 20250428-20:39:43] epoch: 12 train-loss: 1.2306175882628223\n",
            "[LOG 20250428-20:39:51] epoch: 13 train-loss: 1.1021405124206787\n",
            "[LOG 20250428-20:40:01] epoch: 14 train-loss: 1.0300569860919961\n",
            "[LOG 20250428-20:40:09] epoch: 15 train-loss: 0.983046941157343\n",
            "[LOG 20250428-20:40:18] epoch: 16 train-loss: 0.9469432515630336\n",
            "[LOG 20250428-20:40:27] epoch: 17 train-loss: 0.9159806947718298\n",
            "[LOG 20250428-20:40:35] epoch: 18 train-loss: 0.888111937783166\n",
            "[LOG 20250428-20:40:45] epoch: 19 train-loss: 0.8635246242795672\n"
          ]
        }
      ],
      "source": [
        "# initialize collection of training epoch losses\n",
        "train_epoch_losses = []\n",
        "\n",
        "# set model in training mode\n",
        "model.train()\n",
        "\n",
        "# training the model\n",
        "# iterate over the 20 epochs\n",
        "for epoch in range(num_epochs):\n",
        "\n",
        "    # initialize collection of mini-batch losses\n",
        "    train_mini_batch_losses = []\n",
        "    # iterate over all mini-batches\n",
        "    for i, (images, labels) in enumerate(fashion_mnist_train_dataloader):\n",
        "        # push mini-batch data to device\n",
        "        images = images.to(device)\n",
        "        labels = labels.to(device)\n",
        "\n",
        "        # forward pass\n",
        "        output = model(images)\n",
        "        # reset graph gradients\n",
        "        model.zero_grad()\n",
        "        #determine classification loss\n",
        "        loss = nll_loss(output, labels)\n",
        "\n",
        "        # backward pass -- take the loss\n",
        "        loss.backward()\n",
        "        # calculate new parameters based on the loss\n",
        "        optimizer.step()\n",
        "        # collect mini-batch reconstruction loss\n",
        "        train_mini_batch_losses.append(loss.data.item())\n",
        "\n",
        "    # determine mean mini-batch loss for epoch\n",
        "    train_epoch_loss = np.mean(train_mini_batch_losses)\n",
        "    # print epoch loss\n",
        "    now = datetime.utcnow().strftime(\"%Y%m%d-%H:%M:%S\")\n",
        "    print('[LOG {}] epoch: {} train-loss: {}'.format(str(now), str(epoch), str(train_epoch_loss)))\n",
        "\n",
        "    # set filename of model -- generate new name for each epoch\n",
        "    model_name = 'fashion_mnist_model_epoch_{}.pth'.format(str(epoch))\n",
        "    # save current model to gdrive models directory\n",
        "    torch.save(model.state_dict(), os.path.join(models_directory, model_name))\n",
        "\n",
        "    # append mean mini-batch loss of epoch\n",
        "    train_epoch_losses.append(train_epoch_loss)"
      ]
    },
    {
      "cell_type": "markdown",
      "metadata": {
        "id": "58ijijrYQ8eL"
      },
      "source": [
        "Now that the model has been trained, we can plot the training loss per epoch in order to visualize it."
      ]
    },
    {
      "cell_type": "code",
      "execution_count": 25,
      "metadata": {
        "colab": {
          "base_uri": "https://localhost:8080/",
          "height": 494
        },
        "id": "R1c9QX4UQ70V",
        "outputId": "5a81bbd1-f73e-4a37-b4cc-333caab905a4"
      },
      "outputs": [
        {
          "output_type": "execute_result",
          "data": {
            "text/plain": [
              "<matplotlib.legend.Legend at 0x7be2fbf01b90>"
            ]
          },
          "metadata": {},
          "execution_count": 25
        },
        {
          "output_type": "display_data",
          "data": {
            "text/plain": [
              "<Figure size 640x480 with 1 Axes>"
            ],
            "image/png": "[encoded data removed]"
          },
          "metadata": {}
        }
      ],
      "source": [
        "# prepare plot\n",
        "fig = plt.figure()\n",
        "ax = fig.add_subplot(111)\n",
        "ax.grid(linestyle='dotted') # add grid\n",
        "\n",
        "# plot the training epochs vs. the epochs' classification error\n",
        "ax.plot(np.array(range(1, len(train_epoch_losses)+1)), train_epoch_losses, label='epoch loss')\n",
        "\n",
        "# add axis labels and title\n",
        "ax.set_xlabel(\"[training epoch $e_i$]\", fontsize=10)\n",
        "ax.set_ylabel(\"[Classification Error $\\mathcal{L}^{NLL}$]\", fontsize=10)\n",
        "plt.title('Training Epochs $e_i$ vs. Classification Error $L^{NLL}$', fontsize=10)\n",
        "\n",
        "# set plot legend\n",
        "plt.legend(loc=\"upper right\", numpoints=1, fancybox=True)"
      ]
    },
    {
      "cell_type": "markdown",
      "metadata": {
        "id": "Kw_HXz2SCUDS"
      },
      "source": [
        "We can see in the above plot of the loss that the model is definitely learning with each epoch, but the loss is still pretty high. We also can see that 20 epochs was not enough time to converge - the model looks like it was still learning (i.e. the loss would still have dropped quite a bit if given more epochs).\n",
        "\n",
        "Now we are ready to evaluate the model with the images it has not seen before."
      ]
    },
    {
      "cell_type": "markdown",
      "metadata": {
        "id": "CegsA4deVIpg"
      },
      "source": [
        "####Evaluating the model"
      ]
    },
    {
      "cell_type": "markdown",
      "metadata": {
        "id": "JnWbJSFLVftN"
      },
      "source": [
        "First we will load the best performing model from our model snapshots from training. In this case, it was the last model snapshot - the 19th epoch."
      ]
    },
    {
      "cell_type": "code",
      "execution_count": 26,
      "metadata": {
        "colab": {
          "base_uri": "https://localhost:8080/"
        },
        "id": "7tYMswTyYkzC",
        "outputId": "81b7b32b-bd02-48fb-f58b-5dbd17510c0b"
      },
      "outputs": [
        {
          "output_type": "execute_result",
          "data": {
            "text/plain": [
              "<All keys matched successfully>"
            ]
          },
          "metadata": {},
          "execution_count": 26
        }
      ],
      "source": [
        "# restore pre-trained model snapshot\n",
        "best_model_name = '/content/drive/MyDrive/Colab Notebooks/models/fashion_mnist_model_epoch_19.pth'\n",
        "\n",
        "# init pre-trained model class\n",
        "best_model = FashionMnistCNN()\n",
        "\n",
        "# load epoch 19 (best performing epoch) of trained model and put it on cpu (as opposed to gpu)\n",
        "best_model.load_state_dict(torch.load(best_model_name, map_location=torch.device('cpu')))\n"
      ]
    },
    {
      "cell_type": "markdown",
      "metadata": {
        "id": "fxtDaoovICCH"
      },
      "source": [
        "We can make sure the model loaded successfully."
      ]
    },
    {
      "cell_type": "code",
      "execution_count": 27,
      "metadata": {
        "colab": {
          "base_uri": "https://localhost:8080/"
        },
        "id": "glgHmEocIE4c",
        "outputId": "f0d3a21d-e6ca-4e65-e43f-467dedd4c82c"
      },
      "outputs": [
        {
          "output_type": "execute_result",
          "data": {
            "text/plain": [
              "FashionMnistCNN(\n",
              "  (conv1): Conv2d(1, 32, kernel_size=(5, 5), stride=(1, 1))\n",
              "  (pool1): MaxPool2d(kernel_size=2, stride=2, padding=0, dilation=1, ceil_mode=False)\n",
              "  (conv2): Conv2d(32, 64, kernel_size=(5, 5), stride=(1, 1))\n",
              "  (pool2): MaxPool2d(kernel_size=2, stride=2, padding=0, dilation=1, ceil_mode=False)\n",
              "  (linear1): Linear(in_features=1024, out_features=600, bias=True)\n",
              "  (relu1): ReLU(inplace=True)\n",
              "  (linear2): Linear(in_features=600, out_features=120, bias=True)\n",
              "  (relu2): ReLU(inplace=True)\n",
              "  (linear3): Linear(in_features=120, out_features=10, bias=True)\n",
              "  (logsoftmax): LogSoftmax(dim=1)\n",
              ")"
            ]
          },
          "metadata": {},
          "execution_count": 27
        }
      ],
      "source": [
        "# set model in evaluation mode\n",
        "best_model.eval()"
      ]
    },
    {
      "cell_type": "markdown",
      "metadata": {
        "id": "0Rb0zKqwJABM"
      },
      "source": [
        "We can use the PyTorch dataloader for the evaluation images, which are the images that the model has not seen yet (the images the model was not trained on)."
      ]
    },
    {
      "cell_type": "code",
      "execution_count": 28,
      "metadata": {
        "id": "vP2Sm4_cJJBr"
      },
      "outputs": [],
      "source": [
        "fashion_mnist_eval_dataloader = torch.utils.data.DataLoader(fashion_mnist_eval_data, batch_size=10000, shuffle=False)"
      ]
    },
    {
      "cell_type": "markdown",
      "metadata": {
        "id": "-K_QMu5QJc0Y"
      },
      "source": [
        "Evaluate the model with the mini-batch approach and compute the mean negative log-likelihood loss of all of the mini-batches that are processed in an epoch."
      ]
    },
    {
      "cell_type": "code",
      "execution_count": 29,
      "metadata": {
        "colab": {
          "base_uri": "https://localhost:8080/"
        },
        "id": "cNMnk60hJ4Pa",
        "outputId": "e1d36d0b-0aff-41c7-cac2-bbb606375ba9"
      },
      "outputs": [
        {
          "output_type": "stream",
          "name": "stdout",
          "text": [
            "[LOG 20250428-20:41:41] eval-loss: 0.865886926651001\n"
          ]
        }
      ],
      "source": [
        "# initialize collection of mini-batch losses\n",
        "eval_mini_batch_losses = []\n",
        "\n",
        "# iterate over all mini-batches\n",
        "for i, (images, labels) in enumerate(fashion_mnist_eval_dataloader):\n",
        "\n",
        "    # forward pass\n",
        "    output = best_model(images)\n",
        "\n",
        "    # determine classification loss\n",
        "    loss = nll_loss(output, labels)\n",
        "\n",
        "    # collect mini-batch reconstruction loss\n",
        "    eval_mini_batch_losses.append(loss.data.item())\n",
        "\n",
        "# determine mean mini-batch loss for epoch\n",
        "eval_loss = np.mean(eval_mini_batch_losses)\n",
        "\n",
        "# print epoch loss\n",
        "now = datetime.utcnow().strftime(\"%Y%m%d-%H:%M:%S\")\n",
        "print('[LOG {}] eval-loss: {}'.format(str(now), str(eval_loss)))"
      ]
    },
    {
      "cell_type": "markdown",
      "metadata": {
        "id": "yQgeDEnsLhf4"
      },
      "source": [
        "We can see that the evaluation loss is 0.8659 which is not far off from the training loss at the last epoch.\n",
        "\n",
        "We can now get the predictions for all the evaluation data observations in order to calculate the overall classification accuracy."
      ]
    },
    {
      "cell_type": "code",
      "execution_count": 31,
      "metadata": {
        "colab": {
          "base_uri": "https://localhost:8080/"
        },
        "id": "Bx8F6_tKLng9",
        "outputId": "2290bbbf-010b-4e06-cde8-d7084060a576"
      },
      "outputs": [
        {
          "output_type": "execute_result",
          "data": {
            "text/plain": [
              "0.6715"
            ]
          },
          "metadata": {},
          "execution_count": 31
        }
      ],
      "source": [
        "# preds\n",
        "predictions = torch.argmax(best_model(next(iter(fashion_mnist_eval_dataloader))[0]), dim=1)\n",
        "\n",
        "# accuracy\n",
        "metrics.accuracy_score(fashion_mnist_eval_data.targets, predictions.detach())"
      ]
    },
    {
      "cell_type": "markdown",
      "metadata": {
        "id": "2WUL_8HzrXzy"
      },
      "source": [
        "At 0.6715, the classification accuracy is pretty low, but still better than guessing at random. With 10 categories, guessing at random would have a classification accuracy of about 0.1.\n",
        "\n",
        "We can also see the confusion matrix to see the (mis)classification of each category in reference to all other categories."
      ]
    },
    {
      "cell_type": "code",
      "execution_count": 32,
      "metadata": {
        "id": "cCYNZg27rkFs",
        "colab": {
          "base_uri": "https://localhost:8080/",
          "height": 752
        },
        "outputId": "527e1eec-2edc-4cfa-bfae-1ba5925d67d7"
      },
      "outputs": [
        {
          "output_type": "execute_result",
          "data": {
            "text/plain": [
              "Text(72.72222222222221, 0.5, '[predicted class]')"
            ]
          },
          "metadata": {},
          "execution_count": 32
        },
        {
          "output_type": "display_data",
          "data": {
            "text/plain": [
              "<Figure size 800x800 with 1 Axes>"
            ],
            "image/png": "[encoded data removed]"
          },
          "metadata": {}
        }
      ],
      "source": [
        "# define classification matrix of the predicted and target classes\n",
        "mat = confusion_matrix(fashion_mnist_eval_data.targets, predictions.detach())\n",
        "# initialize the plot and define size\n",
        "plt.figure(figsize=(8,8))\n",
        "\n",
        "# plot the confusion matrix as a heat map\n",
        "sns.heatmap(mat.T, square=True, annot=True, fmt='d', cbar=False, cmap='YlOrRd_r', xticklabels=fashion_classes, yticklabels=fashion_classes)\n",
        "plt.tick_params(axis='both', which='major', labelsize=8, labelbottom=False, bottom=False, top=False, left=False, labeltop=True)\n",
        "\n",
        "# plot title and axis labels\n",
        "plt.title('Fashion MNIST Classification Matrix\\nAccuracy = 0.6918; Loss=0.8203')\n",
        "plt.xlabel('[true class]')\n",
        "plt.ylabel('[predicted class]')"
      ]
    },
    {
      "cell_type": "markdown",
      "metadata": {
        "id": "UNBnGfwU9_sa"
      },
      "source": [
        "###**3.3 Improved CNN.**"
      ]
    },
    {
      "cell_type": "markdown",
      "metadata": {
        "id": "pT0RaUzt_jjL"
      },
      "source": [
        "#### Implement and train your \"improved\" CNN\n",
        "(\"improved\" simply refers to a better classification accuracy than your baseline model)\n",
        "\n",
        "This model architecture is similar to the baseline model but will include dropout regularization within the architecture with a dropout probability of 50%"
      ]
    },
    {
      "cell_type": "code",
      "execution_count": 33,
      "metadata": {
        "id": "EbwYKivl_YjU"
      },
      "outputs": [],
      "source": [
        "# implement the network architecture\n",
        "# (nn.Module gets the functionalities from the pytorch module)\n",
        "class FashionMnistCNN(nn.Module):\n",
        "\n",
        "    # define the class constructor\n",
        "    def __init__(self):\n",
        "\n",
        "        # call super class constructor\n",
        "        super(FashionMnistCNN, self).__init__()\n",
        "\n",
        "        # specify convolution layer 1. (1 input channel w/ grayscale. output = features to extract)\n",
        "        self.conv1 = nn.Conv2d(in_channels=1, out_channels=32, kernel_size=5, stride=1, padding=0)\n",
        "        # define max-pooling layer 1\n",
        "        self.pool1 = nn.MaxPool2d(kernel_size=2, stride=2)\n",
        "        # specify convolution layer 2. (input channels = output from before)\n",
        "        self.conv2 = nn.Conv2d(in_channels=32, out_channels=64, kernel_size=5, stride=1, padding=0)\n",
        "        # define max-pooling layer 2\n",
        "        self.pool2 = nn.MaxPool2d(kernel_size=2, stride=2)\n",
        "\n",
        "        # classification part\n",
        "        # specify first fully connected layer\n",
        "        self.linear1 = nn.Linear(64*4*4, 600, bias=True) # linearity\n",
        "        self.relu1 = nn.ReLU(inplace=True) # non-linearity\n",
        "        # fully connected layer 2\n",
        "        self.linear2 = nn.Linear(600, 120, bias=True)\n",
        "        self.relu2 = nn.ReLU(inplace=True)\n",
        "        # fully connected layer 3 (output is 10 for 10 fashion mnist classes)\n",
        "        self.linear3 = nn.Linear(120, 10)\n",
        "        # feed output of 3rd fc through softmax\n",
        "        self.logsoftmax = nn.LogSoftmax(dim=1)\n",
        "\n",
        "        # dropout layer\n",
        "        self.dropout = nn.Dropout(0.5, inplace=True)\n",
        "\n",
        "    # where it is glued together\n",
        "    # define the forward pass\n",
        "    def forward(self, images):\n",
        "\n",
        "        # high level feature learning via convolutional layers\n",
        "        # define conv layer 1 forward pass, max pooling, relu sneaks in a nonlinearity to help with learning\n",
        "        x = self.pool1(self.relu1(self.conv1(images)))\n",
        "        # define conv layer 2 forward pass\n",
        "        x = self.pool2(self.relu2(self.conv2(x)))\n",
        "\n",
        "        # feature flattening\n",
        "        # reshape image pixels\n",
        "        x = x.view(x.size(0), -1)\n",
        "\n",
        "        # combination of feature learning via non-linear layers\n",
        "        # define fully connected layer 1 forward pass\n",
        "        x = self.relu1(self.dropout(self.linear1(x)))\n",
        "        # define fc layer 2 forward pass\n",
        "        x = self.relu2(self.dropout(self.linear2(x)))\n",
        "        # define layer 3 forward pass\n",
        "        x = self.logsoftmax(self.linear3(x))\n",
        "\n",
        "        # return forward pass result\n",
        "        return x\n"
      ]
    },
    {
      "cell_type": "markdown",
      "metadata": {
        "id": "P_yOC9PZGVax"
      },
      "source": [
        "Instantiate model and push to the computing device that we want."
      ]
    },
    {
      "cell_type": "code",
      "execution_count": 34,
      "metadata": {
        "id": "7o1SZvAF_YFu",
        "colab": {
          "base_uri": "https://localhost:8080/"
        },
        "outputId": "bac67f07-3e16-410b-c22e-a50c08a0f654"
      },
      "outputs": [
        {
          "output_type": "stream",
          "name": "stdout",
          "text": [
            "Mon Apr 28 20:43:57 2025       \n",
            "+-----------------------------------------------------------------------------------------+\n",
            "| NVIDIA-SMI 550.54.15              Driver Version: 550.54.15      CUDA Version: 12.4     |\n",
            "|-----------------------------------------+------------------------+----------------------+\n",
            "| GPU  Name                 Persistence-M | Bus-Id          Disp.A | Volatile Uncorr. ECC |\n",
            "| Fan  Temp   Perf          Pwr:Usage/Cap |           Memory-Usage | GPU-Util  Compute M. |\n",
            "|                                         |                        |               MIG M. |\n",
            "|=========================================+========================+======================|\n",
            "|   0  Tesla T4                       Off |   00000000:00:04.0 Off |                    0 |\n",
            "| N/A   69C    P0             30W /   70W |     240MiB /  15360MiB |      0%      Default |\n",
            "|                                         |                        |                  N/A |\n",
            "+-----------------------------------------+------------------------+----------------------+\n",
            "                                                                                         \n",
            "+-----------------------------------------------------------------------------------------+\n",
            "| Processes:                                                                              |\n",
            "|  GPU   GI   CI        PID   Type   Process name                              GPU Memory |\n",
            "|        ID   ID                                                               Usage      |\n",
            "|=========================================================================================|\n",
            "+-----------------------------------------------------------------------------------------+\n"
          ]
        }
      ],
      "source": [
        "# instantiate model\n",
        "model = FashionMnistCNN()\n",
        "# push to device\n",
        "model = model.to(device)\n",
        "# if GPU is enabled  we can double check that the model was pushed there\n",
        "!nvidia-smi"
      ]
    },
    {
      "cell_type": "markdown",
      "metadata": {
        "id": "NS9Pt-q-ERn6"
      },
      "source": [
        "Now we can view the architectural structure and the number of parameters."
      ]
    },
    {
      "cell_type": "code",
      "execution_count": 35,
      "metadata": {
        "id": "IgRZ1VtUGhxm",
        "colab": {
          "base_uri": "https://localhost:8080/"
        },
        "outputId": "6e896c82-d531-411d-a864-875308a8513d"
      },
      "outputs": [
        {
          "output_type": "stream",
          "name": "stdout",
          "text": [
            "[LOG] FashionMnistCNN architecture:\n",
            "\n",
            "FashionMnistCNN(\n",
            "  (conv1): Conv2d(1, 32, kernel_size=(5, 5), stride=(1, 1))\n",
            "  (pool1): MaxPool2d(kernel_size=2, stride=2, padding=0, dilation=1, ceil_mode=False)\n",
            "  (conv2): Conv2d(32, 64, kernel_size=(5, 5), stride=(1, 1))\n",
            "  (pool2): MaxPool2d(kernel_size=2, stride=2, padding=0, dilation=1, ceil_mode=False)\n",
            "  (linear1): Linear(in_features=1024, out_features=600, bias=True)\n",
            "  (relu1): ReLU(inplace=True)\n",
            "  (linear2): Linear(in_features=600, out_features=120, bias=True)\n",
            "  (relu2): ReLU(inplace=True)\n",
            "  (linear3): Linear(in_features=120, out_features=10, bias=True)\n",
            "  (logsoftmax): LogSoftmax(dim=1)\n",
            "  (dropout): Dropout(p=0.5, inplace=True)\n",
            ")\n",
            "\n",
            "[LOG] Number of FashionMnistCNN model parameters to be trained: 740426.\n"
          ]
        }
      ],
      "source": [
        "# look at the architecture\n",
        "print('[LOG] FashionMnistCNN architecture:\\n\\n{}\\n'.format(model))\n",
        "\n",
        "# look at the parameters\n",
        "# first initialize the number of paramters\n",
        "num_params = 0\n",
        "# iterate over the distinct parameters\n",
        "for param in model.parameters():\n",
        "    # collect number of parameters\n",
        "    num_params += param.numel()\n",
        "#print number of parameters\n",
        "print('[LOG] Number of FashionMnistCNN model parameters to be trained: {}.'.format(num_params))"
      ]
    },
    {
      "cell_type": "markdown",
      "metadata": {
        "id": "l1BAnJPaH1sb"
      },
      "source": [
        "We will use negative log likelihood loss again. This time we will use the Adam optimizer which adjusts the learning rate, but we do set the initial learning rate."
      ]
    },
    {
      "cell_type": "code",
      "execution_count": 36,
      "metadata": {
        "id": "Di13_037Gs69"
      },
      "outputs": [],
      "source": [
        "# define loss function\n",
        "nll_loss = nn.NLLLoss()\n",
        "#push initialized loss function to device\n",
        "nll_loss = nll_loss.to(device)\n",
        "\n",
        "# set the initial learning rate\n",
        "learning_rate = .0001\n",
        "# define optimization strategy (Adam)\n",
        "optimizer = torch.optim.Adam(model.parameters(), lr=learning_rate)"
      ]
    },
    {
      "cell_type": "markdown",
      "metadata": {
        "id": "TiFaUMZnIsjp"
      },
      "source": [
        "We will also use 50 epochs. From the base model, we saw that on 20 epochs, it was starting to converge but still needed some more epochs to be able to converge."
      ]
    },
    {
      "cell_type": "code",
      "execution_count": 38,
      "metadata": {
        "id": "PQFIY1UYGy15"
      },
      "outputs": [],
      "source": [
        "num_epochs = 50\n",
        "mini_batch_size = 128\n",
        "\n",
        "# dataloader\n",
        "fashion_mnist_train_dataloader = torch.utils.data.DataLoader(fashion_mnist_train_data, batch_size=mini_batch_size, shuffle=True)"
      ]
    },
    {
      "cell_type": "markdown",
      "metadata": {
        "id": "oAithoPcldae"
      },
      "source": [
        "Now we can train the (theoretically) better model. Note that the way this is named/stored, it will overwrite the model we trained above. That is ok for now since the model above trained so quickly - if I needed to go back and redo anything I could make a new folder and rename the other model."
      ]
    },
    {
      "cell_type": "code",
      "execution_count": 39,
      "metadata": {
        "id": "Vzx8-ydHHLO7",
        "colab": {
          "base_uri": "https://localhost:8080/"
        },
        "outputId": "7c12b8cf-734a-44c0-9d93-4c89838bce9f"
      },
      "outputs": [
        {
          "output_type": "stream",
          "name": "stdout",
          "text": [
            "[LOG 20250428-20:44:51] epoch: 0 train-loss: 1.1535139468941353\n",
            "[LOG 20250428-20:44:59] epoch: 1 train-loss: 0.6896387364691509\n",
            "[LOG 20250428-20:45:06] epoch: 2 train-loss: 0.6035149357974656\n",
            "[LOG 20250428-20:45:15] epoch: 3 train-loss: 0.5481057968348074\n",
            "[LOG 20250428-20:45:23] epoch: 4 train-loss: 0.5082780754388269\n",
            "[LOG 20250428-20:45:30] epoch: 5 train-loss: 0.4754279431249541\n",
            "[LOG 20250428-20:45:38] epoch: 6 train-loss: 0.4438385042999345\n",
            "[LOG 20250428-20:45:46] epoch: 7 train-loss: 0.41929560296062723\n",
            "[LOG 20250428-20:45:54] epoch: 8 train-loss: 0.39841449537129797\n",
            "[LOG 20250428-20:46:03] epoch: 9 train-loss: 0.3805755500091927\n",
            "[LOG 20250428-20:46:10] epoch: 10 train-loss: 0.3646834034846027\n",
            "[LOG 20250428-20:46:19] epoch: 11 train-loss: 0.35338966834392627\n",
            "[LOG 20250428-20:46:27] epoch: 12 train-loss: 0.3414755467730545\n",
            "[LOG 20250428-20:46:35] epoch: 13 train-loss: 0.33175946905541776\n",
            "[LOG 20250428-20:46:43] epoch: 14 train-loss: 0.32351508879585306\n",
            "[LOG 20250428-20:46:50] epoch: 15 train-loss: 0.3160655445127345\n",
            "[LOG 20250428-20:46:59] epoch: 16 train-loss: 0.30737248275961193\n",
            "[LOG 20250428-20:47:10] epoch: 17 train-loss: 0.2992267663449621\n",
            "[LOG 20250428-20:47:23] epoch: 18 train-loss: 0.29420176046743574\n",
            "[LOG 20250428-20:47:31] epoch: 19 train-loss: 0.2894113336417721\n",
            "[LOG 20250428-20:47:39] epoch: 20 train-loss: 0.2821049931715292\n",
            "[LOG 20250428-20:47:48] epoch: 21 train-loss: 0.27559766659477375\n",
            "[LOG 20250428-20:47:56] epoch: 22 train-loss: 0.2711945420452781\n",
            "[LOG 20250428-20:48:05] epoch: 23 train-loss: 0.2666220354563646\n",
            "[LOG 20250428-20:48:15] epoch: 24 train-loss: 0.2630208954691633\n",
            "[LOG 20250428-20:48:23] epoch: 25 train-loss: 0.25604081690819785\n",
            "[LOG 20250428-20:48:32] epoch: 26 train-loss: 0.25080262985565005\n",
            "[LOG 20250428-20:48:41] epoch: 27 train-loss: 0.2459947584407416\n",
            "[LOG 20250428-20:48:50] epoch: 28 train-loss: 0.244787180776408\n",
            "[LOG 20250428-20:48:59] epoch: 29 train-loss: 0.2400556312028025\n",
            "[LOG 20250428-20:49:09] epoch: 30 train-loss: 0.2359788175235425\n",
            "[LOG 20250428-20:49:18] epoch: 31 train-loss: 0.23191339300194783\n",
            "[LOG 20250428-20:49:26] epoch: 32 train-loss: 0.2278313834561722\n",
            "[LOG 20250428-20:49:35] epoch: 33 train-loss: 0.2228293721037887\n",
            "[LOG 20250428-20:49:44] epoch: 34 train-loss: 0.22079344338445522\n",
            "[LOG 20250428-20:49:53] epoch: 35 train-loss: 0.2186670508751991\n",
            "[LOG 20250428-20:50:01] epoch: 36 train-loss: 0.21538900896938626\n",
            "[LOG 20250428-20:50:11] epoch: 37 train-loss: 0.21173773899769732\n",
            "[LOG 20250428-20:50:20] epoch: 38 train-loss: 0.2061639619248508\n",
            "[LOG 20250428-20:50:28] epoch: 39 train-loss: 0.20225077559317606\n",
            "[LOG 20250428-20:50:37] epoch: 40 train-loss: 0.1992677174397369\n",
            "[LOG 20250428-20:50:46] epoch: 41 train-loss: 0.19639487532791552\n",
            "[LOG 20250428-20:50:54] epoch: 42 train-loss: 0.19406318292816058\n",
            "[LOG 20250428-20:51:02] epoch: 43 train-loss: 0.18995643060789433\n",
            "[LOG 20250428-20:51:10] epoch: 44 train-loss: 0.18962700849275854\n",
            "[LOG 20250428-20:51:18] epoch: 45 train-loss: 0.18326370724673463\n",
            "[LOG 20250428-20:51:26] epoch: 46 train-loss: 0.18141583016495716\n",
            "[LOG 20250428-20:51:33] epoch: 47 train-loss: 0.17942401811258116\n",
            "[LOG 20250428-20:51:42] epoch: 48 train-loss: 0.17578188641302622\n",
            "[LOG 20250428-20:51:50] epoch: 49 train-loss: 0.17053488058957464\n"
          ]
        }
      ],
      "source": [
        "# initialize collection of training epoch losses\n",
        "train_epoch_losses = []\n",
        "\n",
        "# set model in training mode\n",
        "model.train()\n",
        "\n",
        "# training the model\n",
        "# iterate over the 20 epochs\n",
        "for epoch in range(num_epochs):\n",
        "\n",
        "    # initialize collection of mini-batch losses\n",
        "    train_mini_batch_losses = []\n",
        "    # iterate over all mini-batches\n",
        "    for i, (images, labels) in enumerate(fashion_mnist_train_dataloader):\n",
        "        # push mini-batch data to device\n",
        "        images = images.to(device)\n",
        "        labels = labels.to(device)\n",
        "\n",
        "        # forward pass\n",
        "        output = model(images)\n",
        "        # reset graph gradients\n",
        "        model.zero_grad()\n",
        "        #determine classification loss\n",
        "        loss = nll_loss(output, labels)\n",
        "\n",
        "        # backward pass -- take the loss\n",
        "        loss.backward()\n",
        "        # calculate new parameters based on the loss\n",
        "        optimizer.step()\n",
        "        # collect mini-batch reconstruction loss\n",
        "        train_mini_batch_losses.append(loss.data.item())\n",
        "\n",
        "    # determine mean mini-batch loss for epoch\n",
        "    train_epoch_loss = np.mean(train_mini_batch_losses)\n",
        "    # print epoch loss\n",
        "    now = datetime.utcnow().strftime(\"%Y%m%d-%H:%M:%S\")\n",
        "    print('[LOG {}] epoch: {} train-loss: {}'.format(str(now), str(epoch), str(train_epoch_loss)))\n",
        "\n",
        "    # set filename of model -- generate new name for each epoch\n",
        "    model_name = 'fashion_mnist_model_epoch_{}.pth'.format(str(epoch))\n",
        "    # save current model to gdrive models directory\n",
        "    torch.save(model.state_dict(), os.path.join(models_directory, model_name))\n",
        "\n",
        "    # append mean mini-batch loss of epoch\n",
        "    train_epoch_losses.append(train_epoch_loss)"
      ]
    },
    {
      "cell_type": "markdown",
      "metadata": {
        "id": "Q1NgVSSyKVrI"
      },
      "source": [
        "Based on the loss per epoch, the model is performing better than the base model, at least on the training data. We can also plot this to be able to visualize it."
      ]
    },
    {
      "cell_type": "code",
      "execution_count": 40,
      "metadata": {
        "id": "RFz1pnM_Ikcr",
        "colab": {
          "base_uri": "https://localhost:8080/",
          "height": 494
        },
        "outputId": "43596da8-c6b3-40ae-a649-37a35fae5c78"
      },
      "outputs": [
        {
          "output_type": "execute_result",
          "data": {
            "text/plain": [
              "<matplotlib.legend.Legend at 0x7be2e1f69b90>"
            ]
          },
          "metadata": {},
          "execution_count": 40
        },
        {
          "output_type": "display_data",
          "data": {
            "text/plain": [
              "<Figure size 640x480 with 1 Axes>"
            ],
            "image/png": "[encoded data removed]"
          },
          "metadata": {}
        }
      ],
      "source": [
        "# prepare plot\n",
        "fig = plt.figure()\n",
        "ax = fig.add_subplot(111)\n",
        "ax.grid(linestyle='dotted') # add grid\n",
        "\n",
        "# plot the training epochs vs. the epochs' classification error\n",
        "ax.plot(np.array(range(1, len(train_epoch_losses)+1)), train_epoch_losses, label='epoch loss')\n",
        "\n",
        "# add axis labels and title\n",
        "ax.set_xlabel(\"[training epoch $e_i$]\", fontsize=10)\n",
        "ax.set_ylabel(\"[Classification Error $\\mathcal{L}^{NLL}$]\", fontsize=10)\n",
        "plt.title('Training Epochs $e_i$ vs. Classification Error $L^{NLL}$', fontsize=10)\n",
        "\n",
        "# set plot legend\n",
        "plt.legend(loc=\"upper right\", numpoints=1, fancybox=True)"
      ]
    },
    {
      "cell_type": "markdown",
      "metadata": {
        "id": "sEmqWlgpJJLL"
      },
      "source": [
        "This model looks like it would have converged if given more epochs, but even without the convergence, it looks to be performing better than the base model so I will not re-run it. I also do not want to risk overfitting to the training data (even though it could be underfitting as it is, but we will see how it performs on the evaluation data)."
      ]
    },
    {
      "cell_type": "markdown",
      "metadata": {
        "id": "lHSgL7JIFUkA"
      },
      "source": [
        "#### Evaluating the model\n",
        "\n",
        "Now we can load the best performing model (the last one) in order to use this on the evaluation dataset."
      ]
    },
    {
      "cell_type": "code",
      "execution_count": 41,
      "metadata": {
        "id": "IUQvR9F4JPnP",
        "colab": {
          "base_uri": "https://localhost:8080/"
        },
        "outputId": "d2d2e9e3-0a39-4166-fea6-d8ca8648d8a7"
      },
      "outputs": [
        {
          "output_type": "execute_result",
          "data": {
            "text/plain": [
              "<All keys matched successfully>"
            ]
          },
          "metadata": {},
          "execution_count": 41
        }
      ],
      "source": [
        "# restore pre-trained model snapshot\n",
        "best_model_name = '/content/drive/MyDrive/Colab Notebooks/models/fashion_mnist_model_epoch_49.pth'\n",
        "\n",
        "# init pre-trained model class\n",
        "best_model = FashionMnistCNN()\n",
        "\n",
        "# load epoch 19 (best performing epoch) of trained model and put it on cpu (as opposed to gpu)\n",
        "best_model.load_state_dict(torch.load(best_model_name, map_location=torch.device('cpu')))\n"
      ]
    },
    {
      "cell_type": "code",
      "execution_count": 42,
      "metadata": {
        "id": "Bv5J6IVRKC1W",
        "colab": {
          "base_uri": "https://localhost:8080/"
        },
        "outputId": "917d5ca7-f01d-4409-fc56-917c13377d3e"
      },
      "outputs": [
        {
          "output_type": "execute_result",
          "data": {
            "text/plain": [
              "FashionMnistCNN(\n",
              "  (conv1): Conv2d(1, 32, kernel_size=(5, 5), stride=(1, 1))\n",
              "  (pool1): MaxPool2d(kernel_size=2, stride=2, padding=0, dilation=1, ceil_mode=False)\n",
              "  (conv2): Conv2d(32, 64, kernel_size=(5, 5), stride=(1, 1))\n",
              "  (pool2): MaxPool2d(kernel_size=2, stride=2, padding=0, dilation=1, ceil_mode=False)\n",
              "  (linear1): Linear(in_features=1024, out_features=600, bias=True)\n",
              "  (relu1): ReLU(inplace=True)\n",
              "  (linear2): Linear(in_features=600, out_features=120, bias=True)\n",
              "  (relu2): ReLU(inplace=True)\n",
              "  (linear3): Linear(in_features=120, out_features=10, bias=True)\n",
              "  (logsoftmax): LogSoftmax(dim=1)\n",
              "  (dropout): Dropout(p=0.5, inplace=True)\n",
              ")"
            ]
          },
          "metadata": {},
          "execution_count": 42
        }
      ],
      "source": [
        "# set model in evaluation mode\n",
        "best_model.eval()"
      ]
    },
    {
      "cell_type": "markdown",
      "metadata": {
        "id": "DRkIS5LTN8W2"
      },
      "source": [
        "Now we can evaluate the model and we can use the same fashion_mnist_eval_dataloader defined earlier."
      ]
    },
    {
      "cell_type": "code",
      "execution_count": 43,
      "metadata": {
        "id": "q1wQZJz7KKOH",
        "colab": {
          "base_uri": "https://localhost:8080/"
        },
        "outputId": "17118693-4ad9-4a9a-962f-63e338e3b900"
      },
      "outputs": [
        {
          "output_type": "stream",
          "name": "stdout",
          "text": [
            "[LOG 20250428-20:53:56] eval-loss: 0.24773672223091125\n"
          ]
        }
      ],
      "source": [
        "# initialize collection of mini-batch losses\n",
        "eval_mini_batch_losses = []\n",
        "\n",
        "# iterate over all mini-batches\n",
        "for i, (images, labels) in enumerate(fashion_mnist_eval_dataloader):\n",
        "\n",
        "    # forward pass\n",
        "    output = best_model(images)\n",
        "\n",
        "    # determine classification loss\n",
        "    loss = nll_loss(output, labels)\n",
        "\n",
        "    # collect mini-batch reconstruction loss\n",
        "    eval_mini_batch_losses.append(loss.data.item())\n",
        "\n",
        "# determine mean mini-batch loss for epoch\n",
        "eval_loss = np.mean(eval_mini_batch_losses)\n",
        "\n",
        "# print epoch loss\n",
        "now = datetime.utcnow().strftime(\"%Y%m%d-%H:%M:%S\")\n",
        "print('[LOG {}] eval-loss: {}'.format(str(now), str(eval_loss)))"
      ]
    },
    {
      "cell_type": "markdown",
      "metadata": {
        "id": "6-stRT4nKQf5"
      },
      "source": [
        "Getting the predictions for all observations and the overall accuracy."
      ]
    },
    {
      "cell_type": "code",
      "execution_count": 44,
      "metadata": {
        "id": "XNBtTamrKP8X",
        "colab": {
          "base_uri": "https://localhost:8080/"
        },
        "outputId": "b281f470-9b10-4495-9b93-823e68b55897"
      },
      "outputs": [
        {
          "output_type": "execute_result",
          "data": {
            "text/plain": [
              "0.9151"
            ]
          },
          "metadata": {},
          "execution_count": 44
        }
      ],
      "source": [
        "# preds\n",
        "predictions = torch.argmax(best_model(next(iter(fashion_mnist_eval_dataloader))[0]), dim=1)\n",
        "\n",
        "# accuracy\n",
        "metrics.accuracy_score(fashion_mnist_eval_data.targets, predictions.detach())"
      ]
    },
    {
      "cell_type": "markdown",
      "metadata": {
        "id": "CwXHI-K1PQqh"
      },
      "source": [
        "The accuracy for this model is .9151, which is a huge improvement over the baseline model.\n",
        "\n",
        "Finally, a confusion matrix to show where the highest misclassification happened."
      ]
    },
    {
      "cell_type": "code",
      "execution_count": 45,
      "metadata": {
        "id": "WuqXMUCOPP_i",
        "colab": {
          "base_uri": "https://localhost:8080/",
          "height": 773
        },
        "outputId": "2cd75612-7268-464d-dce2-59553b5a5855"
      },
      "outputs": [
        {
          "output_type": "execute_result",
          "data": {
            "text/plain": [
              "Text(72.72222222222221, 0.5, '[predicted class]')"
            ]
          },
          "metadata": {},
          "execution_count": 45
        },
        {
          "output_type": "display_data",
          "data": {
            "text/plain": [
              "<Figure size 800x800 with 1 Axes>"
            ],
            "image/png": "[encoded data removed]"
          },
          "metadata": {}
        }
      ],
      "source": [
        "# define classification matrix of the predicted and target classes\n",
        "mat = confusion_matrix(fashion_mnist_eval_data.targets, predictions.detach())\n",
        "# initialize the plot and define size\n",
        "plt.figure(figsize=(8,8))\n",
        "\n",
        "# plot the confusion matrix as a heat map\n",
        "sns.heatmap(mat.T, square=True, annot=True, fmt='d', cbar=False, cmap='YlOrRd_r', xticklabels=fashion_classes, yticklabels=fashion_classes)\n",
        "plt.tick_params(axis='both', which='major', labelsize=8, labelbottom=False, bottom=False, top=False, left=False, labeltop=True)\n",
        "\n",
        "# plot title and axis labels\n",
        "plt.title('Fashion MNIST Classification Matrix\\nBetter Model\\nAccuracy = 0.9089; Loss=0.2500')\n",
        "plt.xlabel('[true class]')\n",
        "plt.ylabel('[predicted class]')"
      ]
    }
  ],
  "metadata": {
    "accelerator": "GPU",
    "colab": {
      "provenance": [],
      "toc_visible": true
    },
    "gpuClass": "standard",
    "kernelspec": {
      "display_name": "Python 3",
      "language": "python",
      "name": "python3"
    },
    "language_info": {
      "codemirror_mode": {
        "name": "ipython",
        "version": 3
      },
      "file_extension": ".py",
      "mimetype": "text/x-python",
      "name": "python",
      "nbconvert_exporter": "python",
      "pygments_lexer": "ipython3",
      "version": "3.8.5"
    },
    "toc": {
      "base_numbering": 1,
      "nav_menu": {},
      "number_sections": false,
      "sideBar": true,
      "skip_h1_title": false,
      "title_cell": "Table of Contents",
      "title_sidebar": "Contents",
      "toc_cell": false,
      "toc_position": {
        "height": "calc(100% - 180px)",
        "left": "10px",
        "top": "150px",
        "width": "254.39999389648438px"
      },
      "toc_section_display": true,
      "toc_window_display": true
    }
  },
  "nbformat": 4,
  "nbformat_minor": 0
}